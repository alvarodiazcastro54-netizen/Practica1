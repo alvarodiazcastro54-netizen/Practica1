{
  "nbformat": 4,
  "nbformat_minor": 0,
  "metadata": {
    "colab": {
      "provenance": [],
      "authorship_tag": "ABX9TyMERmzi53eUA4HEn0KA1Gnd",
      "include_colab_link": true
    },
    "kernelspec": {
      "name": "python3",
      "display_name": "Python 3"
    },
    "language_info": {
      "name": "python"
    }
  },
  "cells": [
    {
      "cell_type": "markdown",
      "metadata": {
        "id": "view-in-github",
        "colab_type": "text"
      },
      "source": [
        "<a href=\"https://colab.research.google.com/github/alvarodiazcastro54-netizen/Practica1/blob/main/Untitled0.ipynb\" target=\"_parent\"><img src=\"https://colab.research.google.com/assets/colab-badge.svg\" alt=\"Open In Colab\"/></a>"
      ]
    },
    {
      "cell_type": "markdown",
      "source": [
        "# PRACTICA CALIFICADA 01\n"
      ],
      "metadata": {
        "id": "NwcT8GPZtoG3"
      }
    },
    {
      "cell_type": "markdown",
      "source": [
        "1. Resolver con numpy los siguientes casos:\n",
        "*   Crea un vector de números enteros del 1 al 20.\n",
        "*   Crea una matriz de 3x3 con valores aleatorios entre 0 y 1.\n",
        "*   Redimensiona una matriz de 4x4 a una matriz de 2x8.\n",
        "*   Crea un array de 10 números equidistantes entre 0 y 1.\n",
        "*   Concatena dos vectores vertical y horizontalmente. (concatenate)\n",
        "\n",
        "\n"
      ],
      "metadata": {
        "id": "RckYG-EnkzFB"
      }
    },
    {
      "cell_type": "code",
      "source": [
        "import numpy as np\n",
        "\n",
        "# Crea un vector de números enteros del 1 al 20.\n",
        "vector_1_a_20 = np.arange(1, 21)\n",
        "print(\"Vector de 1 a 20:\")\n",
        "print(vector_1_a_20)\n",
        "print(\"-\" * 30)\n",
        "\n",
        "# Crea una matriz de 3x3 con valores aleatorios entre 0 y 1.\n",
        "matriz_aleatoria_3x3 = np.random.rand(3, 3)\n",
        "print(\"Matriz aleatoria 3x3:\")\n",
        "print(matriz_aleatoria_3x3)\n",
        "print(\"-\" * 30)\n",
        "\n",
        "# Redimensiona una matriz de 4x4 a una matriz de 2x8.\n",
        "matriz_4x4 = np.arange(16).reshape(4, 4)\n",
        "matriz_redimensionada_2x8 = matriz_4x4.reshape(2, 8)\n",
        "print(\"Matriz 4x4 original:\")\n",
        "print(matriz_4x4)\n",
        "print(\"Matriz redimensionada 2x8:\")\n",
        "print(matriz_redimensionada_2x8)\n",
        "print(\"-\" * 30)\n",
        "\n",
        "# Crea un array de 10 números equidistantes entre 0 y 1.\n",
        "array_equidistante = np.linspace(0, 1, 10)\n",
        "print(\"Array de 10 números equidistantes entre 0 y 1:\")\n",
        "print(array_equidistante)\n",
        "print(\"-\" * 30)\n",
        "\n",
        "# Concatena dos vectores vertical y horizontalmente. (concatenate)\n",
        "vector1 = np.array([1, 2, 3])\n",
        "vector2 = np.array([4, 5, 6])\n",
        "concatenacion_vertical = np.concatenate((vector1, vector2), axis=0)\n",
        "concatenacion_horizontal = np.concatenate((vector1.reshape(-1, 1), vector2.reshape(-1, 1)), axis=1) # Reshape for horizontal\n",
        "\n",
        "print(\"Vector 1:\", vector1)\n",
        "print(\"Vector 2:\", vector2)\n",
        "print(\"Concatenación vertical:\")\n",
        "print(concatenacion_vertical)\n",
        "print(\"Concatenación horizontal:\")\n",
        "print(concatenacion_horizontal)"
      ],
      "metadata": {
        "id": "NdXbRgygmVjn"
      },
      "execution_count": null,
      "outputs": []
    },
    {
      "cell_type": "markdown",
      "source": [
        "2. Resolver las siguientes operaciones:\n",
        "*   Calcula la suma, resta, multiplicación y división de dos vectores.\n",
        "*   Calcula la media, mediana y desviacion estandar de un vector.\n",
        "*   Normaliza un vector dividiendo cada elemento por el valor máximo.\n",
        "*   Encuentra el índice del valor máximo y mínimo en un vector.\n",
        "*   Realiza una multiplicación matricial entre dos matrices 3x3.\n",
        "\n",
        "\n",
        "\n"
      ],
      "metadata": {
        "id": "yqqfiKzvlQwR"
      }
    },
    {
      "cell_type": "code",
      "source": [
        "import numpy as np\n",
        "\n",
        "# Calcula la suma, resta, multiplicación y división de dos vectores.\n",
        "vector_a = np.array([1, 2, 3])\n",
        "vector_b = np.array([4, 5, 6])\n",
        "\n",
        "suma_vectores = vector_a + vector_b\n",
        "resta_vectores = vector_a - vector_b\n",
        "multiplicacion_vectores = vector_a * vector_b\n",
        "division_vectores = vector_a / vector_b\n",
        "\n",
        "print(\"Vector a:\", vector_a)\n",
        "print(\"Vector b:\", vector_b)\n",
        "print(\"Suma de vectores:\", suma_vectores)\n",
        "print(\"Resta de vectores:\", resta_vectores)\n",
        "print(\"Multiplicación de vectores:\", multiplicacion_vectores)\n",
        "print(\"División de vectores:\", division_vectores)\n",
        "print(\"-\" * 30)\n",
        "\n",
        "# Calcula la media, mediana y desviacion estandar de un vector.\n",
        "vector_stats = np.array([10, 20, 30, 40, 50])\n",
        "media = np.mean(vector_stats)\n",
        "mediana = np.median(vector_stats)\n",
        "desviacion_estandar = np.std(vector_stats)\n",
        "\n",
        "print(\"Vector para estadísticas:\", vector_stats)\n",
        "print(\"Media:\", media)\n",
        "print(\"Mediana:\", mediana)\n",
        "print(\"Desviación estándar:\", desviacion_estandar)\n",
        "print(\"-\" * 30)\n",
        "\n",
        "# Normaliza un vector dividiendo cada elemento por el valor máximo.\n",
        "vector_normalizar = np.array([10, 20, 5, 30, 15])\n",
        "vector_normalizado = vector_normalizar / np.max(vector_normalizar)\n",
        "\n",
        "print(\"Vector a normalizar:\", vector_normalizar)\n",
        "print(\"Vector normalizado:\", vector_normalizado)\n",
        "print(\"-\" * 30)\n",
        "\n",
        "# Encuentra el índice del valor máximo y mínimo en un vector.\n",
        "vector_indices = np.array([10, 5, 20, 3, 15])\n",
        "indice_max = np.argmax(vector_indices)\n",
        "indice_min = np.argmin(vector_indices)\n",
        "\n",
        "print(\"Vector para encontrar índices:\", vector_indices)\n",
        "print(\"Índice del valor máximo:\", indice_max)\n",
        "print(\"Índice del valor mínimo:\", indice_min)\n",
        "print(\"-\" * 30)\n",
        "\n",
        "# Realiza una multiplicación matricial entre dos matrices 3x3.\n",
        "matriz_A = np.array([[1, 2, 3], [4, 5, 6], [7, 8, 9]])\n",
        "matriz_B = np.array([[9, 8, 7], [6, 5, 4], [3, 2, 1]])\n",
        "multiplicacion_matricial = np.dot(matriz_A, matriz_B)\n",
        "\n",
        "print(\"Matriz A:\")\n",
        "print(matriz_A)\n",
        "print(\"Matriz B:\")\n",
        "print(matriz_B)\n",
        "print(\"Multiplicación matricial:\")\n",
        "print(multiplicacion_matricial)"
      ],
      "metadata": {
        "id": "LjS7ywmBs1nX"
      },
      "execution_count": null,
      "outputs": []
    },
    {
      "cell_type": "markdown",
      "source": [
        "3. Resolver con numpy los siguientes casos:\n",
        "*   Selecciona los elementos pares de un vector de números enteros.\n",
        "*   Filtra los valores mayores que 5 en un vector\n",
        "*   Filtra los valores iguales a cero\n",
        "*   Filtra los valores negativos\n",
        "*  Aplicar la media a los valores mayores de 50.\n",
        "\n"
      ],
      "metadata": {
        "id": "Upk8D6mqlc9Q"
      }
    },
    {
      "cell_type": "code",
      "source": [
        "import numpy as np\n",
        "\n",
        "# Selecciona los elementos pares de un vector de números enteros.\n",
        "vector_enteros = np.array([1, 2, 3, 4, 5, 6, 7, 8, 9, 10])\n",
        "elementos_pares = vector_enteros[vector_enteros % 2 == 0]\n",
        "print(\"Vector de números enteros:\", vector_enteros)\n",
        "print(\"Elementos pares:\", elementos_pares)\n",
        "print(\"-\" * 30)\n",
        "\n",
        "# Filtra los valores mayores que 5 en un vector\n",
        "vector_filtro = np.array([2, 8, 1, 10, 4, 7, 3, 9, 6, 5])\n",
        "valores_mayores_5 = vector_filtro[vector_filtro > 5]\n",
        "print(\"Vector para filtrar:\", vector_filtro)\n",
        "print(\"Valores mayores que 5:\", valores_mayores_5)\n",
        "print(\"-\" * 30)\n",
        "\n",
        "# Filtra los valores iguales a cero\n",
        "vector_cero = np.array([1, 0, 5, 0, 8, 2, 0, 4])\n",
        "valores_iguales_cero = vector_cero[vector_cero == 0]\n",
        "print(\"Vector con ceros:\", vector_cero)\n",
        "print(\"Valores iguales a cero:\", valores_iguales_cero)\n",
        "print(\"-\" * 30)\n",
        "\n",
        "# Filtra los valores negativos\n",
        "vector_negativo = np.array([1, -2, 5, -8, 3, -1])\n",
        "valores_negativos = vector_negativo[vector_negativo < 0]\n",
        "print(\"Vector con números negativos:\", vector_negativo)\n",
        "print(\"Valores negativos:\", valores_negativos)\n",
        "print(\"-\" * 30)\n",
        "\n",
        "# Aplicar la media a los valores mayores de 50.\n",
        "vector_media_filtro = np.array([10, 60, 30, 80, 40, 70, 20, 90, 50])\n",
        "valores_mayores_50 = vector_media_filtro[vector_media_filtro > 50]\n",
        "media_mayores_50 = np.mean(valores_mayores_50)\n",
        "print(\"Vector para aplicar media con filtro:\", vector_media_filtro)\n",
        "print(\"Valores mayores que 50:\", valores_mayores_50)\n",
        "print(\"Media de valores mayores que 50:\", media_mayores_50)"
      ],
      "metadata": {
        "id": "XnHyMvlKmaNf"
      },
      "execution_count": null,
      "outputs": []
    },
    {
      "cell_type": "markdown",
      "source": [
        "4. Resolver con numpy los siguientes casos:\n",
        "*   Crea un vector de 10 elementos y reemplaza todos los valores mayores\n",
        "que 5 con 0.\n",
        "*   Combina dos vectores booleanos utilizando las operaciones & (AND) y I\n",
        "(OR).\n",
        "*   Cuenta la cantidad de valores en un vector que son múltiplos de 3.\n",
        "*   Encuentra los índices de los elementos no nulos en un vector. (np.nonzero)\n",
        "*   Comprueba si todos los elementos en un array son mayores que un valor\n",
        "especifico digitado por el usuario.\n",
        "\n"
      ],
      "metadata": {
        "id": "W2w4nbwKlrkw"
      }
    },
    {
      "cell_type": "code",
      "source": [],
      "metadata": {
        "id": "zXNcNbAfmam3"
      },
      "execution_count": null,
      "outputs": []
    },
    {
      "cell_type": "markdown",
      "source": [
        "5. Resolver con numpy los siguientes casos:\n",
        "*   Calcula el cuadrado de cada elemento en un vector.\n",
        "*   Utiliza la función exponencial para elevar todos los elementos de un vector\n",
        "a la misma potencia.\n",
        "*   Encuentra los valores máximos y mínimos en cada fila de una matriz.\n",
        "*   Aplica la función sin a todos los elementos de un vector y almacena los\n",
        "resultados en otro vector.\n",
        "*   Realiza la transpuesta de una matriz 3x4.\n",
        "\n",
        "\n"
      ],
      "metadata": {
        "id": "3DSUJtkXls7v"
      }
    },
    {
      "cell_type": "code",
      "source": [
        "import numpy as np\n",
        "\n",
        "# Calcula el cuadrado de cada elemento en un vector.\n",
        "vector_original = np.array([1, 2, 3, 4, 5])\n",
        "vector_cuadrado = np.square(vector_original)\n",
        "print(\"Vector original:\", vector_original)\n",
        "print(\"Cuadrado de cada elemento:\", vector_cuadrado)\n",
        "print(\"-\" * 30)\n",
        "\n",
        "# Utiliza la función exponencial para elevar todos los elementos de un vector a la misma potencia.\n",
        "vector_base = np.array([1, 2, 3])\n",
        "potencia = 3\n",
        "vector_exponencial = np.power(vector_base, potencia)\n",
        "print(f\"Vector base: {vector_base}\")\n",
        "print(f\"Potencia: {potencia}\")\n",
        "print(f\"Resultado de elevar cada elemento a la potencia {potencia}: {vector_exponencial}\")\n",
        "print(\"-\" * 30)\n",
        "\n",
        "# Encuentra los valores máximos y mínimos en cada fila de una matriz.\n",
        "matriz = np.array([[1, 2, 3], [4, 5, 6], [7, 8, 9]])\n",
        "maximos_por_fila = np.max(matriz, axis=1)\n",
        "minimos_por_fila = np.min(matriz, axis=1)\n",
        "print(\"Matriz:\")\n",
        "print(matriz)\n",
        "print(\"Valores máximos por fila:\", maximos_por_fila)\n",
        "print(\"Valores mínimos por fila:\", minimos_por_fila)\n",
        "print(\"-\" * 30)\n",
        "\n",
        "# Aplica la función sin a todos los elementos de un vector y almacena los resultados en otro vector.\n",
        "vector_radianes = np.array([0, np.pi/2, np.pi, 3*np.pi/2, 2*np.pi])\n",
        "vector_sin = np.sin(vector_radianes)\n",
        "print(\"Vector en radianes:\", vector_radianes)\n",
        "print(\"Resultado de aplicar la función sin:\", vector_sin)\n",
        "print(\"-\" * 30)\n",
        "\n",
        "# Realiza la transpuesta de una matriz 3x4.\n",
        "matriz_3x4 = np.array([[1, 2, 3, 4], [5, 6, 7, 8], [9, 10, 11, 12]])\n",
        "matriz_transpuesta = np.transpose(matriz_3x4)\n",
        "print(\"Matriz 3x4 original:\")\n",
        "print(matriz_3x4)\n",
        "print(\"Matriz transpuesta:\")\n",
        "print(matriz_transpuesta)"
      ],
      "metadata": {
        "id": "2wVVNtxbmcCH"
      },
      "execution_count": null,
      "outputs": []
    },
    {
      "cell_type": "markdown",
      "source": [
        "6. Crea un DataFrame con las siguientes columnas: 'Nombre', 'Edad', 'Ciudad'.\n",
        "Añade al menos 10 registros.\n",
        "*   Del DataFrame creado, filtra a las personas que tienen más de 25 años.\n",
        "*   A tu DataFrame, añade una nueva columna llamada 'Ingresos', rellénala\n",
        "con cualquier valor.\n",
        "*   Encuentra el promedio de la edad en tu DataFrame.\n",
        "*   Cuenta cuántas veces aparece cada ciudad en tu DataFrame.\n",
        "*   Agrupa tu DataFrame por 'Ciudad' y calcula el promedio de 'Edad' para\n",
        "cada ciudad. (groupby)\n",
        "*   Ordena tu DataFrame por 'Edad', de manera ascendente y luego\n",
        "descendente.\n",
        "\n"
      ],
      "metadata": {
        "id": "ToUiSc8vkgFp"
      }
    },
    {
      "cell_type": "code",
      "source": [
        "import pandas as pd\n",
        "\n",
        "# Crea un DataFrame con las siguientes columnas: 'Nombre', 'Edad', 'Ciudad'.\n",
        "data = {'Nombre': ['Juan', 'Maria', 'Pedro', 'Ana', 'Luis', 'Sofia', 'Carlos', 'Elena', 'Diego', 'Lucia'],\n",
        "        'Edad': [23, 31, 28, 25, 35, 29, 42, 22, 30, 27],\n",
        "        'Ciudad': ['Madrid', 'Barcelona', 'Valencia', 'Sevilla', 'Madrid', 'Barcelona', 'Valencia', 'Madrid', 'Sevilla', 'Barcelona']}\n",
        "df = pd.DataFrame(data)\n",
        "\n",
        "print(\"DataFrame original:\")\n",
        "print(df)\n",
        "print(\"-\" * 30)\n",
        "\n",
        "# Del DataFrame creado, filtra a las personas que tienen más de 25 años.\n",
        "df_mayores_25 = df[df['Edad'] > 25]\n",
        "print(\"Personas mayores de 25 años:\")\n",
        "print(df_mayores_25)\n",
        "print(\"-\" * 30)\n",
        "\n",
        "# A tu DataFrame, añade una nueva columna llamada 'Ingresos', rellénala con cualquier valor.\n",
        "df['Ingresos'] = [1200, 1500, 1300, 1100, 1800, 1400, 2000, 1000, 1600, 1350]\n",
        "print(\"DataFrame con columna 'Ingresos':\")\n",
        "print(df)\n",
        "print(\"-\" * 30)\n",
        "\n",
        "# Encuentra el promedio de la edad en tu DataFrame.\n",
        "promedio_edad = df['Edad'].mean()\n",
        "print(f\"Promedio de edad en el DataFrame: {promedio_edad}\")\n",
        "print(\"-\" * 30)\n",
        "\n",
        "# Cuenta cuántas veces aparece cada ciudad en tu DataFrame.\n",
        "conteo_ciudades = df['Ciudad'].value_counts()\n",
        "print(\"Conteo de apariciones de cada ciudad:\")\n",
        "print(conteo_ciudades)\n",
        "print(\"-\" * 30)\n",
        "\n",
        "# Agrupa tu DataFrame por 'Ciudad' y calcula el promedio de 'Edad' para cada ciudad. (groupby)\n",
        "promedio_edad_por_ciudad = df.groupby('Ciudad')['Edad'].mean()\n",
        "print(\"Promedio de edad por ciudad:\")\n",
        "print(promedio_edad_por_ciudad)\n",
        "print(\"-\" * 30)\n",
        "\n",
        "# Ordena tu DataFrame por 'Edad', de manera ascendente.\n",
        "df_ordenado_asc = df.sort_values(by='Edad', ascending=True)\n",
        "print(\"DataFrame ordenado por edad (ascendente):\")\n",
        "print(df_ordenado_asc)\n",
        "print(\"-\" * 30)\n",
        "\n",
        "# Ordena tu DataFrame por 'Edad', de manera descendente.\n",
        "df_ordenado_desc = df.sort_values(by='Edad', ascending=False)\n",
        "print(\"DataFrame ordenado por edad (descendente):\")\n",
        "print(df_ordenado_desc)"
      ],
      "metadata": {
        "id": "-SBe6Wb-mddH"
      },
      "execution_count": null,
      "outputs": []
    },
    {
      "cell_type": "markdown",
      "source": [
        "7. Del archivo adjunto realizar los siguientes filtros:\n",
        "\n",
        "*   Indicar cuantos son de la carrera de Ing. en sistemas\n",
        "*   Indicar cuantos son de la carrera de Ing. en derecho\n",
        "*   Indicar cuantos se inscribieron en el ano 2015\n",
        "*   Indicar cuantos son del 1 y 2 semestre\n",
        "\n",
        "\n",
        "\n"
      ],
      "metadata": {
        "id": "pR6TbLaTj8zw"
      }
    },
    {
      "cell_type": "code",
      "execution_count": null,
      "metadata": {
        "id": "jGX3IxvAebjo"
      },
      "outputs": [],
      "source": [
        "import pandas as pd\n",
        "\n",
        "df = pd.read_excel(\"universidad.xlsx\")\n",
        "\n",
        "df[\"Carrera\"] = df[\"Carrera\"].str.strip().str.lower()\n",
        "df[\"Semestre\"] = pd.to_numeric(df[\"Semestre\"], errors='coerce')\n",
        "df[\"Año Inscripción\"] = pd.to_datetime(df[\"Inscripción\"]).dt.year\n",
        "\n",
        "ing_sistemas = df[df[\"Carrera\"].str.contains(\"sistemas\")].shape[0]\n",
        "\n",
        "\n",
        "ing_derecho = df[df[\"Carrera\"].str.contains(\"derecho\")].shape[0]\n",
        "\n",
        "\n",
        "inscritos_2015 = df[df[\"Año Inscripción\"] == 2015].shape[0]\n",
        "\n",
        "\n",
        "semestre_1_2 = df[df[\"Semestre\"].isin([1, 2])].shape[0]\n",
        "\n",
        "print(\"Resultado del punto 7:\")\n",
        "print(\"------------------------------------------------\")\n",
        "print(\"Cantidad de estudiantes de Ing. en Sistemas:\", ing_sistemas)\n",
        "print(\"Cantidad de estudiantes de Ing. en Derecho:\", ing_derecho)\n",
        "print(\"Cantidad de estudiantes inscritos en 2015:\", inscritos_2015)\n",
        "print(\"Cantidad de estudiantes en 1° y 2° semestre:\", semestre_1_2)\n"
      ]
    }
  ]
}